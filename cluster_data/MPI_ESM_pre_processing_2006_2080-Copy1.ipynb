{
 "cells": [
  {
   "cell_type": "code",
   "execution_count": 1,
   "metadata": {
    "ExecuteTime": {
     "end_time": "2019-07-03T13:27:33.331172Z",
     "start_time": "2019-07-03T13:27:27.240450Z"
    }
   },
   "outputs": [],
   "source": [
    "\n",
    "import pickle\n",
    "import numpy as np\n",
    "from numpy import *\n",
    "import xarray as xr\n",
    "import tensorflow as tf\n",
    "import os\n",
    "os.environ[\"CUDA_VISIBLE_DEVICES\"]=\"0\"\n",
    "#os.environ[\"CUDA_DEVICE_ORDER\"]=\"PCI_BUS_ID\"\n",
    "#masking\n",
    "mice_files =  \"//home/madhumadi/bcsd_bcsrcnn/NorESM1_M/raw_gcm/NorESM1_rcp_85_wo_preprocessing_2006_2100.nc\"\n",
    "observed = '/home/madhumadi/sd/s_data/nc_files/precipitation_India_obs.nc'\n",
    "obs=xr.open_dataset(observed)\n",
    "model=xr.open_dataset(mice_files)"
   ]
  },
  {
   "cell_type": "code",
   "execution_count": 2,
   "metadata": {
    "ExecuteTime": {
     "end_time": "2019-07-03T13:27:33.387703Z",
     "start_time": "2019-07-03T13:27:33.375188Z"
    }
   },
   "outputs": [
    {
     "data": {
      "text/plain": [
       "<xarray.Dataset>\n",
       "Dimensions:    (bnds: 2, lat: 96, lon: 144, time: 34675)\n",
       "Coordinates:\n",
       "  * lon        (lon) float64 0.0 2.5 5.0 7.5 10.0 ... 350.0 352.5 355.0 357.5\n",
       "  * lat        (lat) float64 -90.0 -88.11 -86.21 -84.32 ... 86.21 88.11 90.0\n",
       "  * time       (time) object 2006-01-01 12:00:00 ... 2100-12-31 12:00:00\n",
       "Dimensions without coordinates: bnds\n",
       "Data variables:\n",
       "    lon_bnds   (lon, bnds) float64 ...\n",
       "    lat_bnds   (lat, bnds) float64 ...\n",
       "    time_bnds  (time, bnds) object ...\n",
       "    pr         (time, lat, lon) float32 ...\n",
       "Attributes:\n",
       "    CDI:                    Climate Data Interface version ?? (http://mpimet....\n",
       "    Conventions:            CF-1.4\n",
       "    history:                Mon Jul 15 23:05:29 2019: cdo mergetime pr_day_No...\n",
       "    source:                 NorESM1-M 2011  atmosphere: CAM-Oslo (CAM4-Oslo-n...\n",
       "    institution:            Norwegian Climate Centre\n",
       "    institute_id:           NCC\n",
       "    experiment_id:          rcp85\n",
       "    model_id:               NorESM1-M\n",
       "    forcing:                GHG, SA, Oz, Sl, BC, OC\n",
       "    parent_experiment_id:   historical\n",
       "    parent_experiment_rip:  r1i1p1\n",
       "    branch_time:            56940.0\n",
       "    contact:                Please send any requests or bug reports to noresm...\n",
       "    initialization_method:  1\n",
       "    physics_version:        1\n",
       "    tracking_id:            389572c2-52fc-4f4e-9d1b-7ac02b4a3794\n",
       "    product:                output\n",
       "    experiment:             RCP8.5\n",
       "    frequency:              day\n",
       "    creation_date:          2011-06-05T18:53:11Z\n",
       "    project_id:             CMIP5\n",
       "    table_id:               Table day (27 April 2011) 86d1558d99b6ed1e7a886ab...\n",
       "    title:                  NorESM1-M model output prepared for CMIP5 RCP8.5\n",
       "    parent_experiment:      historical\n",
       "    modeling_realm:         atmos\n",
       "    realization:            1\n",
       "    cmor_version:           2.6.0\n",
       "    CDO:                    Climate Data Operators version 1.7.0 (http://mpim..."
      ]
     },
     "execution_count": 2,
     "metadata": {},
     "output_type": "execute_result"
    }
   ],
   "source": [
    "model"
   ]
  },
  {
   "cell_type": "code",
   "execution_count": 3,
   "metadata": {
    "ExecuteTime": {
     "end_time": "2019-07-03T13:27:33.627698Z",
     "start_time": "2019-07-03T13:27:33.416049Z"
    }
   },
   "outputs": [
    {
     "data": {
      "text/plain": [
       "<matplotlib.collections.QuadMesh at 0x7f634cc02080>"
      ]
     },
     "execution_count": 3,
     "metadata": {},
     "output_type": "execute_result"
    }
   ],
   "source": [
    "model['pr'][0].plot()"
   ]
  },
  {
   "cell_type": "code",
   "execution_count": 4,
   "metadata": {
    "ExecuteTime": {
     "end_time": "2019-07-03T13:27:33.665839Z",
     "start_time": "2019-07-03T13:27:33.657224Z"
    }
   },
   "outputs": [
    {
     "data": {
      "text/plain": [
       "<xarray.Dataset>\n",
       "Dimensions:    (bnds: 2, lat: 96, lon: 144, time: 34675)\n",
       "Coordinates:\n",
       "  * lon        (lon) float64 0.0 2.5 5.0 7.5 10.0 ... 350.0 352.5 355.0 357.5\n",
       "  * lat        (lat) float64 -90.0 -88.11 -86.21 -84.32 ... 86.21 88.11 90.0\n",
       "  * time       (time) object 2006-01-01 12:00:00 ... 2100-12-31 12:00:00\n",
       "Dimensions without coordinates: bnds\n",
       "Data variables:\n",
       "    lon_bnds   (lon, bnds) float64 ...\n",
       "    lat_bnds   (lat, bnds) float64 ...\n",
       "    time_bnds  (time, bnds) object ...\n",
       "    pr         (time, lat, lon) float32 ...\n",
       "Attributes:\n",
       "    CDI:                    Climate Data Interface version ?? (http://mpimet....\n",
       "    Conventions:            CF-1.4\n",
       "    history:                Mon Jul 15 23:05:29 2019: cdo mergetime pr_day_No...\n",
       "    source:                 NorESM1-M 2011  atmosphere: CAM-Oslo (CAM4-Oslo-n...\n",
       "    institution:            Norwegian Climate Centre\n",
       "    institute_id:           NCC\n",
       "    experiment_id:          rcp85\n",
       "    model_id:               NorESM1-M\n",
       "    forcing:                GHG, SA, Oz, Sl, BC, OC\n",
       "    parent_experiment_id:   historical\n",
       "    parent_experiment_rip:  r1i1p1\n",
       "    branch_time:            56940.0\n",
       "    contact:                Please send any requests or bug reports to noresm...\n",
       "    initialization_method:  1\n",
       "    physics_version:        1\n",
       "    tracking_id:            389572c2-52fc-4f4e-9d1b-7ac02b4a3794\n",
       "    product:                output\n",
       "    experiment:             RCP8.5\n",
       "    frequency:              day\n",
       "    creation_date:          2011-06-05T18:53:11Z\n",
       "    project_id:             CMIP5\n",
       "    table_id:               Table day (27 April 2011) 86d1558d99b6ed1e7a886ab...\n",
       "    title:                  NorESM1-M model output prepared for CMIP5 RCP8.5\n",
       "    parent_experiment:      historical\n",
       "    modeling_realm:         atmos\n",
       "    realization:            1\n",
       "    cmor_version:           2.6.0\n",
       "    CDO:                    Climate Data Operators version 1.7.0 (http://mpim..."
      ]
     },
     "execution_count": 4,
     "metadata": {},
     "output_type": "execute_result"
    }
   ],
   "source": [
    "model"
   ]
  },
  {
   "cell_type": "code",
   "execution_count": 5,
   "metadata": {
    "ExecuteTime": {
     "end_time": "2019-07-03T13:27:33.708916Z",
     "start_time": "2019-07-03T13:27:33.692827Z"
    }
   },
   "outputs": [],
   "source": [
    "v = obs['precipitation (mm)'].sel(time = slice('1920-01-01','2005-12-31'))"
   ]
  },
  {
   "cell_type": "code",
   "execution_count": 6,
   "metadata": {
    "ExecuteTime": {
     "end_time": "2019-07-03T13:27:33.817767Z",
     "start_time": "2019-07-03T13:27:33.810534Z"
    }
   },
   "outputs": [
    {
     "data": {
      "text/plain": [
       "<xarray.DataArray 'precipitation (mm)' (time: 31412, lat: 129, lon: 135)>\n",
       "[547039980 values with dtype=float32]\n",
       "Coordinates:\n",
       "  * lat      (lat) float64 6.5 6.75 7.0 7.25 7.5 ... 37.5 37.75 38.0 38.25 38.5\n",
       "  * lon      (lon) float64 66.5 66.75 67.0 67.25 67.5 ... 99.25 99.5 99.75 100.0\n",
       "  * time     (time) datetime64[ns] 1920-01-01 1920-01-02 ... 2005-12-31"
      ]
     },
     "execution_count": 6,
     "metadata": {},
     "output_type": "execute_result"
    }
   ],
   "source": [
    "v"
   ]
  },
  {
   "cell_type": "code",
   "execution_count": 7,
   "metadata": {
    "ExecuteTime": {
     "end_time": "2019-07-03T13:27:33.851779Z",
     "start_time": "2019-07-03T13:27:33.845146Z"
    }
   },
   "outputs": [],
   "source": [
    "v1 = model['pr']#.sel( time = slice('1920-01-01','2005-12-31'))"
   ]
  },
  {
   "cell_type": "code",
   "execution_count": 8,
   "metadata": {
    "ExecuteTime": {
     "end_time": "2019-07-03T13:27:33.889812Z",
     "start_time": "2019-07-03T13:27:33.883363Z"
    }
   },
   "outputs": [
    {
     "data": {
      "text/plain": [
       "<xarray.DataArray 'pr' (time: 34675, lat: 96, lon: 144)>\n",
       "[479347200 values with dtype=float32]\n",
       "Coordinates:\n",
       "  * lon      (lon) float64 0.0 2.5 5.0 7.5 10.0 ... 350.0 352.5 355.0 357.5\n",
       "  * lat      (lat) float64 -90.0 -88.11 -86.21 -84.32 ... 84.32 86.21 88.11 90.0\n",
       "  * time     (time) object 2006-01-01 12:00:00 ... 2100-12-31 12:00:00\n",
       "Attributes:\n",
       "    standard_name:     precipitation_flux\n",
       "    long_name:         Precipitation\n",
       "    units:             kg m-2 s-1\n",
       "    comment:           at surface; includes both liquid and solid phases from...\n",
       "    original_name:     PRECT\n",
       "    cell_methods:      time: mean\n",
       "    history:           2011-06-05T18:53:11Z altered by CMOR: Converted type f...\n",
       "    associated_files:  baseURL: http://cmip-pcmdi.llnl.gov/CMIP5/dataLocation..."
      ]
     },
     "execution_count": 8,
     "metadata": {},
     "output_type": "execute_result"
    }
   ],
   "source": [
    "v1#[0][0][0]"
   ]
  },
  {
   "cell_type": "code",
   "execution_count": 9,
   "metadata": {
    "ExecuteTime": {
     "end_time": "2019-07-03T13:27:33.925078Z",
     "start_time": "2019-07-03T13:27:33.922299Z"
    }
   },
   "outputs": [
    {
     "data": {
      "text/plain": [
       "86400"
      ]
     },
     "execution_count": 9,
     "metadata": {},
     "output_type": "execute_result"
    }
   ],
   "source": [
    "\n",
    "(60*60*24)"
   ]
  },
  {
   "cell_type": "code",
   "execution_count": 10,
   "metadata": {
    "ExecuteTime": {
     "end_time": "2019-07-03T13:27:57.106021Z",
     "start_time": "2019-07-03T13:27:47.312256Z"
    }
   },
   "outputs": [],
   "source": [
    "v2=v1*(60*60*24)"
   ]
  },
  {
   "cell_type": "code",
   "execution_count": 11,
   "metadata": {
    "ExecuteTime": {
     "end_time": "2019-07-03T13:27:57.319101Z",
     "start_time": "2019-07-03T13:27:57.145082Z"
    }
   },
   "outputs": [
    {
     "data": {
      "image/png": "[encoded data removed]",
      "text/plain": [
       "<Figure size 432x288 with 2 Axes>"
      ]
     },
     "metadata": {
      "needs_background": "light"
     },
     "output_type": "display_data"
    }
   ],
   "source": [
    "import pylab as plt\n",
    "xr.plot.imshow(v2[0])\n",
    "plt.show()"
   ]
  },
  {
   "cell_type": "code",
   "execution_count": 12,
   "metadata": {
    "ExecuteTime": {
     "end_time": "2019-07-03T13:27:57.361584Z",
     "start_time": "2019-07-03T13:27:57.357302Z"
    }
   },
   "outputs": [],
   "source": [
    "masker=obs['precipitation (mm)'][1,:,:]\n",
    "mask=xr.where(masker>=0,1,np.nan)\n",
    "#mask=mask.rename({'precipitation (mm)','PRECT'})\n",
    "ma=mask"
   ]
  },
  {
   "cell_type": "code",
   "execution_count": 13,
   "metadata": {
    "ExecuteTime": {
     "end_time": "2019-07-03T13:28:59.884254Z",
     "start_time": "2019-07-03T13:27:57.407409Z"
    }
   },
   "outputs": [],
   "source": [
    "interpolated = v2.interp_like(mask)"
   ]
  },
  {
   "cell_type": "code",
   "execution_count": 14,
   "metadata": {
    "ExecuteTime": {
     "end_time": "2019-07-03T13:29:01.546405Z",
     "start_time": "2019-07-03T13:28:59.936758Z"
    }
   },
   "outputs": [],
   "source": [
    "masked = interpolated*mask"
   ]
  },
  {
   "cell_type": "code",
   "execution_count": 15,
   "metadata": {
    "ExecuteTime": {
     "end_time": "2019-07-03T13:29:01.610853Z",
     "start_time": "2019-07-03T13:29:01.602400Z"
    }
   },
   "outputs": [
    {
     "data": {
      "text/plain": [
       "<xarray.DataArray 'precipitation (mm)' (time: 31412, lat: 129, lon: 135)>\n",
       "[547039980 values with dtype=float32]\n",
       "Coordinates:\n",
       "  * lat      (lat) float64 6.5 6.75 7.0 7.25 7.5 ... 37.5 37.75 38.0 38.25 38.5\n",
       "  * lon      (lon) float64 66.5 66.75 67.0 67.25 67.5 ... 99.25 99.5 99.75 100.0\n",
       "  * time     (time) datetime64[ns] 1920-01-01 1920-01-02 ... 2005-12-31"
      ]
     },
     "execution_count": 15,
     "metadata": {},
     "output_type": "execute_result"
    }
   ],
   "source": [
    "v"
   ]
  },
  {
   "cell_type": "code",
   "execution_count": 16,
   "metadata": {
    "ExecuteTime": {
     "end_time": "2019-07-03T13:29:01.674941Z",
     "start_time": "2019-07-03T13:29:01.666465Z"
    }
   },
   "outputs": [
    {
     "data": {
      "text/plain": [
       "<xarray.DataArray (time: 34675, lat: 129, lon: 135)>\n",
       "array([[[nan, nan, ..., nan, nan],\n",
       "        [nan, nan, ..., nan, nan],\n",
       "        ...,\n",
       "        [nan, nan, ..., nan, nan],\n",
       "        [nan, nan, ..., nan, nan]],\n",
       "\n",
       "       [[nan, nan, ..., nan, nan],\n",
       "        [nan, nan, ..., nan, nan],\n",
       "        ...,\n",
       "        [nan, nan, ..., nan, nan],\n",
       "        [nan, nan, ..., nan, nan]],\n",
       "\n",
       "       ...,\n",
       "\n",
       "       [[nan, nan, ..., nan, nan],\n",
       "        [nan, nan, ..., nan, nan],\n",
       "        ...,\n",
       "        [nan, nan, ..., nan, nan],\n",
       "        [nan, nan, ..., nan, nan]],\n",
       "\n",
       "       [[nan, nan, ..., nan, nan],\n",
       "        [nan, nan, ..., nan, nan],\n",
       "        ...,\n",
       "        [nan, nan, ..., nan, nan],\n",
       "        [nan, nan, ..., nan, nan]]])\n",
       "Coordinates:\n",
       "  * time     (time) object 2006-01-01 12:00:00 ... 2100-12-31 12:00:00\n",
       "  * lat      (lat) float64 6.5 6.75 7.0 7.25 7.5 ... 37.5 37.75 38.0 38.25 38.5\n",
       "  * lon      (lon) float64 66.5 66.75 67.0 67.25 67.5 ... 99.25 99.5 99.75 100.0"
      ]
     },
     "execution_count": 16,
     "metadata": {},
     "output_type": "execute_result"
    }
   ],
   "source": [
    "masked"
   ]
  },
  {
   "cell_type": "code",
   "execution_count": 17,
   "metadata": {
    "ExecuteTime": {
     "end_time": "2019-07-03T13:29:01.743635Z",
     "start_time": "2019-07-03T13:29:01.731683Z"
    }
   },
   "outputs": [],
   "source": [
    "m=v.sel(time=~((v.time.dt.month == 2) & (v.time.dt.day == 29)))"
   ]
  },
  {
   "cell_type": "raw",
   "metadata": {
    "ExecuteTime": {
     "end_time": "2019-07-02T14:02:38.570167Z",
     "start_time": "2019-07-02T14:02:38.531390Z"
    }
   },
   "source": [
    "masked.sel( time = '1968-06-16')"
   ]
  },
  {
   "cell_type": "raw",
   "metadata": {
    "ExecuteTime": {
     "end_time": "2019-07-02T14:02:42.872203Z",
     "start_time": "2019-07-02T14:02:42.841489Z"
    }
   },
   "source": [
    "np.min(masked.sel( time = '1968-06-16')[0])"
   ]
  },
  {
   "cell_type": "code",
   "execution_count": 18,
   "metadata": {
    "ExecuteTime": {
     "end_time": "2019-07-03T13:29:20.998738Z",
     "start_time": "2019-07-03T13:29:20.795100Z"
    }
   },
   "outputs": [
    {
     "data": {
      "text/plain": [
       "<matplotlib.image.AxesImage at 0x7f63481d47f0>"
      ]
     },
     "execution_count": 18,
     "metadata": {},
     "output_type": "execute_result"
    },
    {
     "data": {
      "image/png": "[encoded data removed]",
      "text/plain": [
       "<Figure size 432x288 with 2 Axes>"
      ]
     },
     "metadata": {
      "needs_background": "light"
     },
     "output_type": "display_data"
    }
   ],
   "source": [
    "xr.plot.imshow(masked[0],robust=True)"
   ]
  },
  {
   "cell_type": "raw",
   "metadata": {
    "ExecuteTime": {
     "end_time": "2019-07-03T13:29:22.934961Z",
     "start_time": "2019-07-03T13:29:22.761462Z"
    }
   },
   "source": [
    "xr.plot.imshow(v.sel( time = '2020-06-17'),robust=True)\n",
    "plt.show()\n"
   ]
  },
  {
   "cell_type": "code",
   "execution_count": 19,
   "metadata": {},
   "outputs": [
    {
     "data": {
      "text/plain": [
       "<xarray.DataArray (time: 34675, lat: 129, lon: 135)>\n",
       "array([[[nan, nan, ..., nan, nan],\n",
       "        [nan, nan, ..., nan, nan],\n",
       "        ...,\n",
       "        [nan, nan, ..., nan, nan],\n",
       "        [nan, nan, ..., nan, nan]],\n",
       "\n",
       "       [[nan, nan, ..., nan, nan],\n",
       "        [nan, nan, ..., nan, nan],\n",
       "        ...,\n",
       "        [nan, nan, ..., nan, nan],\n",
       "        [nan, nan, ..., nan, nan]],\n",
       "\n",
       "       ...,\n",
       "\n",
       "       [[nan, nan, ..., nan, nan],\n",
       "        [nan, nan, ..., nan, nan],\n",
       "        ...,\n",
       "        [nan, nan, ..., nan, nan],\n",
       "        [nan, nan, ..., nan, nan]],\n",
       "\n",
       "       [[nan, nan, ..., nan, nan],\n",
       "        [nan, nan, ..., nan, nan],\n",
       "        ...,\n",
       "        [nan, nan, ..., nan, nan],\n",
       "        [nan, nan, ..., nan, nan]]])\n",
       "Coordinates:\n",
       "  * time     (time) object 2006-01-01 12:00:00 ... 2100-12-31 12:00:00\n",
       "  * lat      (lat) float64 6.5 6.75 7.0 7.25 7.5 ... 37.5 37.75 38.0 38.25 38.5\n",
       "  * lon      (lon) float64 66.5 66.75 67.0 67.25 67.5 ... 99.25 99.5 99.75 100.0\n",
       "Attributes:\n",
       "    name:     NorESM1_rcp_85\n",
       "    units:    mm/day"
      ]
     },
     "execution_count": 19,
     "metadata": {},
     "output_type": "execute_result"
    }
   ],
   "source": [
    "masked.attrs['name'] = 'NorESM1_rcp_85'\n",
    "masked.attrs['units'] = 'mm/day'\n",
    "masked"
   ]
  },
  {
   "cell_type": "code",
   "execution_count": 20,
   "metadata": {
    "ExecuteTime": {
     "end_time": "2019-07-03T15:09:36.924781Z",
     "start_time": "2019-07-03T15:09:19.554517Z"
    }
   },
   "outputs": [],
   "source": [
    "masked.to_netcdf('/home/madhumadi/bcsd_bcsrcnn/NorESM1_M/preprocessed_gcm/NorESM1_2006_2100_preprocessed_rcp_85.nc')"
   ]
  },
  {
   "cell_type": "code",
   "execution_count": 21,
   "metadata": {},
   "outputs": [
    {
     "data": {
      "text/plain": [
       "'/home/madhumadi/sd'"
      ]
     },
     "execution_count": 21,
     "metadata": {},
     "output_type": "execute_result"
    }
   ],
   "source": [
    "pwd"
   ]
  },
  {
   "cell_type": "code",
   "execution_count": 22,
   "metadata": {
    "scrolled": true
   },
   "outputs": [
    {
     "data": {
      "text/plain": [
       "<matplotlib.collections.QuadMesh at 0x7fdef5a56c18>"
      ]
     },
     "execution_count": 22,
     "metadata": {},
     "output_type": "execute_result"
    },
    {
     "data": {
      "image/png": "[encoded data removed]",
      "text/plain": [
       "<Figure size 432x288 with 2 Axes>"
      ]
     },
     "metadata": {
      "needs_background": "light"
     },
     "output_type": "display_data"
    }
   ],
   "source": [
    "masked[0].plot()"
   ]
  },
  {
   "cell_type": "code",
   "execution_count": 25,
   "metadata": {},
   "outputs": [
    {
     "data": {
      "text/plain": [
       "'/home/madhumadi/sd'"
      ]
     },
     "execution_count": 25,
     "metadata": {},
     "output_type": "execute_result"
    }
   ],
   "source": [
    "pwd"
   ]
  },
  {
   "cell_type": "code",
   "execution_count": 26,
   "metadata": {},
   "outputs": [],
   "source": [
    "new_data = xr.where(masked < 0, 0, masked)"
   ]
  },
  {
   "cell_type": "code",
   "execution_count": 101,
   "metadata": {},
   "outputs": [],
   "source": [
    "new_data.to_netcdf('cliped_obs_1920_to_2005.nc')"
   ]
  },
  {
   "cell_type": "code",
   "execution_count": 106,
   "metadata": {},
   "outputs": [
    {
     "data": {
      "text/plain": [
       "<function matplotlib.pyplot.colorbar(mappable=None, cax=None, ax=None, **kw)>"
      ]
     },
     "execution_count": 106,
     "metadata": {},
     "output_type": "execute_result"
    },
    {
     "data": {
      "image/png": "[encoded data removed]",
      "text/plain": [
       "<Figure size 432x288 with 1 Axes>"
      ]
     },
     "metadata": {
      "needs_background": "light"
     },
     "output_type": "display_data"
    }
   ],
   "source": [
    "plt.imshow(new_data[0].fillna(0))\n",
    "plt.colorbar"
   ]
  },
  {
   "cell_type": "code",
   "execution_count": 103,
   "metadata": {},
   "outputs": [
    {
     "data": {
      "text/plain": [
       "<xarray.DataArray 'precipitation (mm)' ()>\n",
       "array(939.4, dtype=float32)"
      ]
     },
     "execution_count": 103,
     "metadata": {},
     "output_type": "execute_result"
    }
   ],
   "source": [
    "np.max(v)"
   ]
  },
  {
   "cell_type": "code",
   "execution_count": null,
   "metadata": {},
   "outputs": [],
   "source": []
  }
 ],
 "metadata": {
  "kernelspec": {
   "display_name": "Python 3",
   "language": "python",
   "name": "python3"
  },
  "language_info": {
   "codemirror_mode": {
    "name": "ipython",
    "version": 3
   },
   "file_extension": ".py",
   "mimetype": "text/x-python",
   "name": "python",
   "nbconvert_exporter": "python",
   "pygments_lexer": "ipython3",
   "version": "3.6.8"
  },
  "varInspector": {
   "cols": {
    "lenName": 16,
    "lenType": 16,
    "lenVar": 40
   },
   "kernels_config": {
    "python": {
     "delete_cmd_postfix": "",
     "delete_cmd_prefix": "del ",
     "library": "var_list.py",
     "varRefreshCmd": "print(var_dic_list())"
    },
    "r": {
     "delete_cmd_postfix": ") ",
     "delete_cmd_prefix": "rm(",
     "library": "var_list.r",
     "varRefreshCmd": "cat(var_dic_list()) "
    }
   },
   "position": {
    "height": "522px",
    "left": "1041px",
    "right": "20px",
    "top": "120px",
    "width": "305px"
   },
   "types_to_exclude": [
    "module",
    "function",
    "builtin_function_or_method",
    "instance",
    "_Feature"
   ],
   "window_display": false
  }
 },
 "nbformat": 4,
 "nbformat_minor": 2
}
