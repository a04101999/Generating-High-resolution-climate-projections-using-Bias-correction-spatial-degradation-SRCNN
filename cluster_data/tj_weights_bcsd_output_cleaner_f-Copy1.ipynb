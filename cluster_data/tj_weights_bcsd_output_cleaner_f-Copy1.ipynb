{
 "cells": [
  {
   "cell_type": "code",
   "execution_count": 1,
   "metadata": {
    "ExecuteTime": {
     "end_time": "2019-07-06T13:26:59.473749Z",
     "start_time": "2019-07-06T13:26:59.469155Z"
    }
   },
   "outputs": [],
   "source": [
    "import os\n",
    "os.environ[\"CUDA_VISIBLE_DEVICES\"]=\"0\"\n",
    "#os.environ[\"CUDA_DEVICE_ORDER\"]=\"PCI_BUS_ID\"\n",
    "import numpy as np"
   ]
  },
  {
   "cell_type": "code",
   "execution_count": 2,
   "metadata": {
    "ExecuteTime": {
     "end_time": "2019-07-06T13:27:02.280764Z",
     "start_time": "2019-07-06T13:27:00.145307Z"
    }
   },
   "outputs": [
    {
     "name": "stderr",
     "output_type": "stream",
     "text": [
      "Using TensorFlow backend.\n"
     ]
    },
    {
     "name": "stdout",
     "output_type": "stream",
     "text": [
      "Loaded model from disk\n"
     ]
    }
   ],
   "source": [
    "from keras.models import model_from_json\n",
    "# load json and create model\n",
    "json_file = open('/home/madhumadi/sd/srcnn_tjf_ds_full_elevation_1_e_1000/srcnn_pred_srcnn_tjf_ds_full_elevation_1_e_1000_16_06.json', 'r')\n",
    "loaded_model_json = json_file.read()\n",
    "json_file.close()\n",
    "loaded_model = model_from_json(loaded_model_json)\n",
    "loaded_model.load_weights(\"/home/madhumadi/sd/srcnn_tjf_ds_full_elevation_1_e_1000/srcnn_weights_srcnn_tjf_ds_full_elevation_1_e_1000_16_06.h5\")\n",
    "print(\"Loaded model from disk\")\n",
    "\n",
    "# evaluate loaded model on test data\n",
    "loaded_model.compile(loss='mean_squared_error',optimizer='adam')"
   ]
  },
  {
   "cell_type": "code",
   "execution_count": 3,
   "metadata": {
    "ExecuteTime": {
     "end_time": "2019-07-06T13:27:02.299867Z",
     "start_time": "2019-07-06T13:27:02.297148Z"
    }
   },
   "outputs": [],
   "source": [
    "\n",
    "data_size=-1 #train+test\n",
    "batch_size=100 # Size of each batch\n",
    "n_epochs=1000\n",
    "use_elevation=1\n",
    "patience=100\n",
    "if data_size== -1:\n",
    "    ds='full'\n",
    "else:\n",
    "    ds=data_size\n"
   ]
  },
  {
   "cell_type": "code",
   "execution_count": 4,
   "metadata": {
    "ExecuteTime": {
     "end_time": "2019-07-06T13:27:08.225393Z",
     "start_time": "2019-07-06T13:27:02.732414Z"
    }
   },
   "outputs": [],
   "source": [
    "import xarray as xr\n",
    "y=xr.open_dataset('/home/madhumadi/sd/nc_files/obs_1920_to_2005_no_leap.nc')['precipitation (mm)'].sel(time=slice('1950-01-01','2005-12-31')).fillna(0)\n"
   ]
  },
  {
   "cell_type": "code",
   "execution_count": 5,
   "metadata": {
    "scrolled": true
   },
   "outputs": [
    {
     "data": {
      "text/plain": [
       "(20440, 129, 135)"
      ]
     },
     "execution_count": 5,
     "metadata": {},
     "output_type": "execute_result"
    }
   ],
   "source": [
    "y.shape "
   ]
  },
  {
   "cell_type": "code",
   "execution_count": 6,
   "metadata": {},
   "outputs": [],
   "source": [
    "path='/home/madhumadi/bcsd_bcsrcnn/NorESM1_M/bcsd/'\n",
    "model_file_name='NorESM1_bcsd_rcp_85.nc'"
   ]
  },
  {
   "cell_type": "code",
   "execution_count": 7,
   "metadata": {},
   "outputs": [
    {
     "data": {
      "text/plain": [
       "<xarray.Dataset>\n",
       "Dimensions:              (lat: 117, lon: 118, time: 34675)\n",
       "Coordinates:\n",
       "  * lat                  (lat) float64 8.25 8.5 8.75 9.0 ... 36.75 37.0 37.25\n",
       "  * time                 (time) object 2006-01-01 00:00:00 ... 2100-12-31 00:00:00\n",
       "  * lon                  (lon) float64 68.0 68.25 68.5 ... 96.75 97.0 97.25\n",
       "Data variables:\n",
       "    NorESM1_bcsd_rcp_85  (time, lat, lon) float64 ...\n",
       "Attributes:\n",
       "    units:    mm/day\n",
       "    name:     NorESM1_bcsd_rcp_85\n",
       "    rcp:      RCP_85"
      ]
     },
     "execution_count": 7,
     "metadata": {},
     "output_type": "execute_result"
    }
   ],
   "source": [
    "t=xr.open_dataset(path+model_file_name)\n",
    "t"
   ]
  },
  {
   "cell_type": "code",
   "execution_count": 9,
   "metadata": {
    "ExecuteTime": {
     "end_time": "2019-07-06T13:27:18.709072Z",
     "start_time": "2019-07-06T13:27:08.275269Z"
    }
   },
   "outputs": [],
   "source": [
    "model_temp=t['NorESM1_bcsd_rcp_85'].fillna(0)"
   ]
  },
  {
   "cell_type": "code",
   "execution_count": 10,
   "metadata": {},
   "outputs": [],
   "source": [
    "model_t=model_temp.sel(time=~((model_temp.time.dt.month == 2) & (model_temp.time.dt.day == 29)))"
   ]
  },
  {
   "cell_type": "code",
   "execution_count": 11,
   "metadata": {},
   "outputs": [
    {
     "data": {
      "text/plain": [
       "(34675, 117, 118)"
      ]
     },
     "execution_count": 11,
     "metadata": {},
     "output_type": "execute_result"
    }
   ],
   "source": [
    "model_t.shape"
   ]
  },
  {
   "cell_type": "code",
   "execution_count": 12,
   "metadata": {
    "scrolled": true
   },
   "outputs": [
    {
     "name": "stdout",
     "output_type": "stream",
     "text": [
      "2006-01-01 00:00:00\n"
     ]
    }
   ],
   "source": [
    "print(model_t.time.values[0])"
   ]
  },
  {
   "cell_type": "code",
   "execution_count": 13,
   "metadata": {
    "scrolled": true
   },
   "outputs": [
    {
     "name": "stdout",
     "output_type": "stream",
     "text": [
      "2100-12-31 00:00:00\n"
     ]
    }
   ],
   "source": [
    "print(model_t.time.values[-1])"
   ]
  },
  {
   "cell_type": "code",
   "execution_count": 14,
   "metadata": {},
   "outputs": [],
   "source": [
    "model=model_t#.sel(time=slice('1981-01-01','2005-12-31'))"
   ]
  },
  {
   "cell_type": "code",
   "execution_count": 15,
   "metadata": {},
   "outputs": [
    {
     "data": {
      "text/plain": [
       "<xarray.DataArray 'NorESM1_bcsd_rcp_85' (time: 34675, lat: 117, lon: 118)>\n",
       "array([[[0., 0., ..., 0., 0.],\n",
       "        [0., 0., ..., 0., 0.],\n",
       "        ...,\n",
       "        [0., 0., ..., 0., 0.],\n",
       "        [0., 0., ..., 0., 0.]],\n",
       "\n",
       "       [[0., 0., ..., 0., 0.],\n",
       "        [0., 0., ..., 0., 0.],\n",
       "        ...,\n",
       "        [0., 0., ..., 0., 0.],\n",
       "        [0., 0., ..., 0., 0.]],\n",
       "\n",
       "       ...,\n",
       "\n",
       "       [[0., 0., ..., 0., 0.],\n",
       "        [0., 0., ..., 0., 0.],\n",
       "        ...,\n",
       "        [0., 0., ..., 0., 0.],\n",
       "        [0., 0., ..., 0., 0.]],\n",
       "\n",
       "       [[0., 0., ..., 0., 0.],\n",
       "        [0., 0., ..., 0., 0.],\n",
       "        ...,\n",
       "        [0., 0., ..., 0., 0.],\n",
       "        [0., 0., ..., 0., 0.]]])\n",
       "Coordinates:\n",
       "  * lat      (lat) float64 8.25 8.5 8.75 9.0 9.25 ... 36.5 36.75 37.0 37.25\n",
       "  * time     (time) object 2006-01-01 00:00:00 ... 2100-12-31 00:00:00\n",
       "  * lon      (lon) float64 68.0 68.25 68.5 68.75 69.0 ... 96.5 96.75 97.0 97.25"
      ]
     },
     "execution_count": 15,
     "metadata": {},
     "output_type": "execute_result"
    }
   ],
   "source": [
    "model"
   ]
  },
  {
   "cell_type": "code",
   "execution_count": 16,
   "metadata": {
    "ExecuteTime": {
     "end_time": "2019-07-06T13:27:18.751429Z",
     "start_time": "2019-07-06T13:27:18.743052Z"
    }
   },
   "outputs": [],
   "source": [
    "mask=xr.where(xr.open_dataset('nc_files/obs_1920_to_2005_no_leap.nc')['precipitation (mm)'][0]>=0,1,np.nan)"
   ]
  },
  {
   "cell_type": "code",
   "execution_count": 17,
   "metadata": {
    "ExecuteTime": {
     "end_time": "2019-07-06T13:27:19.034119Z",
     "start_time": "2019-07-06T13:27:18.788572Z"
    }
   },
   "outputs": [
    {
     "data": {
      "text/plain": [
       "<xarray.DataArray 'precipitation (mm)' (lat: 129, lon: 135)>\n",
       "array([[nan, nan, nan, ..., nan, nan, nan],\n",
       "       [nan, nan, nan, ..., nan, nan, nan],\n",
       "       [nan, nan, nan, ..., nan, nan, nan],\n",
       "       ...,\n",
       "       [nan, nan, nan, ..., nan, nan, nan],\n",
       "       [nan, nan, nan, ..., nan, nan, nan],\n",
       "       [nan, nan, nan, ..., nan, nan, nan]])\n",
       "Coordinates:\n",
       "  * lat      (lat) float64 6.5 6.75 7.0 7.25 7.5 ... 37.5 37.75 38.0 38.25 38.5\n",
       "  * lon      (lon) float64 66.5 66.75 67.0 67.25 67.5 ... 99.25 99.5 99.75 100.0\n",
       "    time     datetime64[ns] 1920-01-01"
      ]
     },
     "execution_count": 17,
     "metadata": {},
     "output_type": "execute_result"
    }
   ],
   "source": [
    "mask#.plot()"
   ]
  },
  {
   "cell_type": "code",
   "execution_count": 18,
   "metadata": {
    "ExecuteTime": {
     "end_time": "2019-07-06T13:28:19.693004Z",
     "start_time": "2019-07-06T13:27:19.072483Z"
    }
   },
   "outputs": [],
   "source": [
    "\n",
    "temp=model.interp_like(mask)"
   ]
  },
  {
   "cell_type": "code",
   "execution_count": 19,
   "metadata": {
    "ExecuteTime": {
     "end_time": "2019-07-06T13:28:19.913395Z",
     "start_time": "2019-07-06T13:28:19.741034Z"
    },
    "scrolled": true
   },
   "outputs": [
    {
     "data": {
      "text/plain": [
       "<matplotlib.collections.QuadMesh at 0x7f37ac377898>"
      ]
     },
     "execution_count": 19,
     "metadata": {},
     "output_type": "execute_result"
    }
   ],
   "source": [
    "temp[1].fillna(0).plot()"
   ]
  },
  {
   "cell_type": "code",
   "execution_count": 20,
   "metadata": {
    "ExecuteTime": {
     "end_time": "2019-07-06T13:28:31.001371Z",
     "start_time": "2019-07-06T13:28:28.698011Z"
    }
   },
   "outputs": [],
   "source": [
    "\n",
    "x=temp.fillna(0)\n",
    "train_images=np.asarray(x)"
   ]
  },
  {
   "cell_type": "code",
   "execution_count": 21,
   "metadata": {
    "ExecuteTime": {
     "end_time": "2019-07-06T13:28:33.120652Z",
     "start_time": "2019-07-06T13:28:33.113788Z"
    }
   },
   "outputs": [
    {
     "data": {
      "text/plain": [
       "(129, 135)"
      ]
     },
     "execution_count": 21,
     "metadata": {},
     "output_type": "execute_result"
    }
   ],
   "source": [
    "train_images[0].shape"
   ]
  },
  {
   "cell_type": "code",
   "execution_count": 22,
   "metadata": {
    "ExecuteTime": {
     "start_time": "2019-07-06T13:30:33.469Z"
    }
   },
   "outputs": [
    {
     "name": "stdout",
     "output_type": "stream",
     "text": [
      "(34675, 2, 128, 134)\n",
      "(34675, 128, 134, 2)\n"
     ]
    }
   ],
   "source": [
    "\n",
    "if use_elevation==1:\n",
    "    import xarray as xr\n",
    "    from numpy import *\n",
    "    a='/home/madhumadi/sd/nc_files/india_masked_ele_interp.nc'\n",
    "    elevation=xr.open_dataset(a)\n",
    "    elevation_temp2=elevation.interp(lon=np.arange(66.5,100.0,0.25), lat=np.arange(6.5,38.5,0.25))\n",
    "\n",
    "    felev_temp=np.asarray(elevation_temp2['Band1']).reshape([128,134])\n",
    "\n",
    "    def fill_na(x, fillval=0):\n",
    "        where_are_NaNs = isnan(x)\n",
    "        x[where_are_NaNs] = fillval\n",
    "        return x\n",
    "    felev_te=fill_na(felev_temp)\n",
    "    felev=((felev_te-np.min(felev_te))/(np.max(felev_te)-np.min(felev_te)))\n",
    "\n",
    "    train_images.shape\n",
    "    p1=[]\n",
    "    for i in range(len(train_images)):\n",
    "        p2=np.asarray([train_images[i,0:128,0:134],felev*50])\n",
    "        p1.append(p2)\n",
    "    p3=np.asarray(p1)\n",
    "    print(p3.shape)\n",
    "    resu=p3.transpose(0,2,3,1)\n",
    "    print(resu.shape)\n"
   ]
  },
  {
   "cell_type": "code",
   "execution_count": 23,
   "metadata": {
    "scrolled": true
   },
   "outputs": [
    {
     "data": {
      "text/plain": [
       "(34675, 128, 134, 2)"
      ]
     },
     "execution_count": 23,
     "metadata": {},
     "output_type": "execute_result"
    }
   ],
   "source": [
    "resu.shape"
   ]
  },
  {
   "cell_type": "code",
   "execution_count": 24,
   "metadata": {},
   "outputs": [
    {
     "data": {
      "text/plain": [
       "<matplotlib.image.AxesImage at 0x7f3794763d30>"
      ]
     },
     "execution_count": 24,
     "metadata": {},
     "output_type": "execute_result"
    },
    {
     "data": {
      "image/png": "[encoded data removed]",
      "text/plain": [
       "<Figure size 432x288 with 1 Axes>"
      ]
     },
     "metadata": {
      "needs_background": "light"
     },
     "output_type": "display_data"
    }
   ],
   "source": [
    "import pylab as plt\n",
    "plt.imshow(resu[0,:,:,1])"
   ]
  },
  {
   "cell_type": "code",
   "execution_count": 25,
   "metadata": {},
   "outputs": [
    {
     "data": {
      "text/plain": [
       "<matplotlib.image.AxesImage at 0x7f37946d9668>"
      ]
     },
     "execution_count": 25,
     "metadata": {},
     "output_type": "execute_result"
    },
    {
     "data": {
      "image/png": "[encoded data removed]",
      "text/plain": [
       "<Figure size 432x288 with 1 Axes>"
      ]
     },
     "metadata": {
      "needs_background": "light"
     },
     "output_type": "display_data"
    }
   ],
   "source": [
    "plt.imshow(resu[0,:,:,0])"
   ]
  },
  {
   "cell_type": "code",
   "execution_count": 26,
   "metadata": {},
   "outputs": [],
   "source": [
    "predictions=loaded_model.predict(resu)"
   ]
  },
  {
   "cell_type": "code",
   "execution_count": 27,
   "metadata": {},
   "outputs": [
    {
     "data": {
      "text/plain": [
       "(34675, 128, 134, 1)"
      ]
     },
     "execution_count": 27,
     "metadata": {},
     "output_type": "execute_result"
    }
   ],
   "source": [
    "predictions.shape"
   ]
  },
  {
   "cell_type": "code",
   "execution_count": 36,
   "metadata": {},
   "outputs": [],
   "source": [
    "name_of_variable='NorESM1_bcsrcnn_rcp_85'\n",
    "start_time='2006-01-01'\n",
    "end_time='2100-12-31'\n",
    "rcp_name='rcp_85'\n",
    "#start_time='1981-01-01'\n",
    "#end_time='2005-12-31'"
   ]
  },
  {
   "cell_type": "code",
   "execution_count": 37,
   "metadata": {},
   "outputs": [],
   "source": [
    "predict=predictions.reshape([-1,128,134])\n",
    "xr_object = xr.Dataset({name_of_variable: (('time', 'lat', 'lon'), predict)},coords={\"lat\": np.arange(6.5,38.5,0.25), \"lon\":np.arange(66.5,100.0,0.25), \"time\": xr.cftime_range(start_time,end_time, calendar='noleap')})\n",
    "xr_object.attrs['units'] = 'mm/day'\n",
    "xr_object.attrs['rcp'] = rcp_name\n"
   ]
  },
  {
   "cell_type": "code",
   "execution_count": 38,
   "metadata": {},
   "outputs": [
    {
     "data": {
      "text/plain": [
       "<matplotlib.collections.QuadMesh at 0x7f3724311780>"
      ]
     },
     "execution_count": 38,
     "metadata": {},
     "output_type": "execute_result"
    },
    {
     "data": {
      "image/png": "[encoded data removed]",
      "text/plain": [
       "<Figure size 432x288 with 2 Axes>"
      ]
     },
     "metadata": {
      "needs_background": "light"
     },
     "output_type": "display_data"
    }
   ],
   "source": [
    "#xr_object.attrs['rcp'] = 'rcp_85'\n",
    "mask[0:128,0:134].plot()"
   ]
  },
  {
   "cell_type": "code",
   "execution_count": 39,
   "metadata": {
    "scrolled": true
   },
   "outputs": [
    {
     "data": {
      "text/plain": [
       "<xarray.Dataset>\n",
       "Dimensions:                 (lat: 128, lon: 134, time: 34675)\n",
       "Coordinates:\n",
       "  * lat                     (lat) float64 6.5 6.75 7.0 7.25 ... 37.75 38.0 38.25\n",
       "  * lon                     (lon) float64 66.5 66.75 67.0 ... 99.25 99.5 99.75\n",
       "  * time                    (time) object 2006-01-01 00:00:00 ... 2100-12-31 00:00:00\n",
       "Data variables:\n",
       "    NorESM1_bcsrcnn_rcp_85  (time, lat, lon) float32 -0.0016142563 ... -0.0016142563\n",
       "Attributes:\n",
       "    units:    mm/day\n",
       "    rcp:      rcp_85"
      ]
     },
     "execution_count": 39,
     "metadata": {},
     "output_type": "execute_result"
    }
   ],
   "source": [
    "xr_object#[name_of_variable].max()"
   ]
  },
  {
   "cell_type": "code",
   "execution_count": 40,
   "metadata": {},
   "outputs": [],
   "source": [
    "masked_xr=xr_object*mask[0:128,0:134]"
   ]
  },
  {
   "cell_type": "code",
   "execution_count": 41,
   "metadata": {},
   "outputs": [
    {
     "data": {
      "text/plain": [
       "<xarray.Dataset>\n",
       "Dimensions:                 (lat: 128, lon: 134, time: 34675)\n",
       "Coordinates:\n",
       "  * lat                     (lat) float64 6.5 6.75 7.0 7.25 ... 37.75 38.0 38.25\n",
       "  * lon                     (lon) float64 66.5 66.75 67.0 ... 99.25 99.5 99.75\n",
       "  * time                    (time) object 2006-01-01 00:00:00 ... 2100-12-31 00:00:00\n",
       "Data variables:\n",
       "    NorESM1_bcsrcnn_rcp_85  (time, lat, lon) float64 nan nan nan ... nan nan nan\n",
       "Attributes:\n",
       "    units:    mm/day\n",
       "    rcp:      rcp_85"
      ]
     },
     "execution_count": 41,
     "metadata": {},
     "output_type": "execute_result"
    }
   ],
   "source": [
    "masked_xr.attrs['units'] = 'mm/day'\n",
    "masked_xr.attrs['rcp'] = rcp_name\n",
    "masked_xr\n"
   ]
  },
  {
   "cell_type": "code",
   "execution_count": 42,
   "metadata": {},
   "outputs": [],
   "source": [
    "path='/home/madhumadi/bcsd_bcsrcnn/NorESM1_M/bcsrcnn/'"
   ]
  },
  {
   "cell_type": "code",
   "execution_count": 43,
   "metadata": {},
   "outputs": [
    {
     "data": {
      "text/plain": [
       "'/home/madhumadi/bcsd_bcsrcnn/NorESM1_M/bcsrcnn/NorESM1_bcsrcnn_rcp_85.nc'"
      ]
     },
     "execution_count": 43,
     "metadata": {},
     "output_type": "execute_result"
    }
   ],
   "source": [
    "path+name_of_variable+'.nc'"
   ]
  },
  {
   "cell_type": "code",
   "execution_count": 44,
   "metadata": {},
   "outputs": [],
   "source": [
    "masked_xr[name_of_variable].clip(0).to_netcdf(path+name_of_variable+'.nc')"
   ]
  },
  {
   "cell_type": "code",
   "execution_count": 36,
   "metadata": {},
   "outputs": [
    {
     "data": {
      "text/plain": [
       "'/home/madhumadi/sd'"
      ]
     },
     "execution_count": 36,
     "metadata": {},
     "output_type": "execute_result"
    }
   ],
   "source": [
    "pwd"
   ]
  },
  {
   "cell_type": "code",
   "execution_count": null,
   "metadata": {
    "scrolled": true
   },
   "outputs": [],
   "source": [
    "masked_xr[name_of_variable][0].clip(0).plot()"
   ]
  },
  {
   "cell_type": "code",
   "execution_count": null,
   "metadata": {},
   "outputs": [],
   "source": []
  }
 ],
 "metadata": {
  "kernelspec": {
   "display_name": "Python 3",
   "language": "python",
   "name": "python3"
  },
  "language_info": {
   "codemirror_mode": {
    "name": "ipython",
    "version": 3
   },
   "file_extension": ".py",
   "mimetype": "text/x-python",
   "name": "python",
   "nbconvert_exporter": "python",
   "pygments_lexer": "ipython3",
   "version": "3.6.8"
  },
  "varInspector": {
   "cols": {
    "lenName": 16,
    "lenType": 16,
    "lenVar": 40
   },
   "kernels_config": {
    "python": {
     "delete_cmd_postfix": "",
     "delete_cmd_prefix": "del ",
     "library": "var_list.py",
     "varRefreshCmd": "print(var_dic_list())"
    },
    "r": {
     "delete_cmd_postfix": ") ",
     "delete_cmd_prefix": "rm(",
     "library": "var_list.r",
     "varRefreshCmd": "cat(var_dic_list()) "
    }
   },
   "types_to_exclude": [
    "module",
    "function",
    "builtin_function_or_method",
    "instance",
    "_Feature"
   ],
   "window_display": false
  }
 },
 "nbformat": 4,
 "nbformat_minor": 2
}
