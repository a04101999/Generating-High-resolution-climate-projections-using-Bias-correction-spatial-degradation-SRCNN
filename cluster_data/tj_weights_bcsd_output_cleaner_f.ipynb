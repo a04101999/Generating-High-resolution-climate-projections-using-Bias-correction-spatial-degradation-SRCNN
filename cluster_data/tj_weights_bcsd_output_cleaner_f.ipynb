{
 "cells": [
  {
   "cell_type": "code",
   "execution_count": 7,
   "metadata": {
    "ExecuteTime": {
     "end_time": "2019-07-06T13:26:59.473749Z",
     "start_time": "2019-07-06T13:26:59.469155Z"
    }
   },
   "outputs": [],
   "source": [
    "import os\n",
    "os.environ[\"CUDA_VISIBLE_DEVICES\"]=\"0\"\n",
    "#os.environ[\"CUDA_DEVICE_ORDER\"]=\"PCI_BUS_ID\"\n",
    "import numpy as np"
   ]
  },
  {
   "cell_type": "code",
   "execution_count": 8,
   "metadata": {
    "ExecuteTime": {
     "end_time": "2019-07-06T13:27:02.280764Z",
     "start_time": "2019-07-06T13:27:00.145307Z"
    }
   },
   "outputs": [
    {
     "name": "stdout",
     "output_type": "stream",
     "text": [
      "Loaded model from disk\n"
     ]
    }
   ],
   "source": [
    "from keras.models import model_from_json\n",
    "# load json and create model\n",
    "json_file = open('/home/madhumadi/sd/srcnn_tjf_ds_full_elevation_1_e_1000/srcnn_pred_srcnn_tjf_ds_full_elevation_1_e_1000_16_06.json', 'r')\n",
    "loaded_model_json = json_file.read()\n",
    "json_file.close()\n",
    "loaded_model = model_from_json(loaded_model_json)\n",
    "loaded_model.load_weights(\"/home/madhumadi/sd/srcnn_tjf_ds_full_elevation_1_e_1000/srcnn_weights_srcnn_tjf_ds_full_elevation_1_e_1000_16_06.h5\")\n",
    "print(\"Loaded model from disk\")\n",
    "\n",
    "# evaluate loaded model on test data\n",
    "loaded_model.compile(loss='mean_squared_error',optimizer='adam')"
   ]
  },
  {
   "cell_type": "code",
   "execution_count": 9,
   "metadata": {
    "ExecuteTime": {
     "end_time": "2019-07-06T13:27:02.299867Z",
     "start_time": "2019-07-06T13:27:02.297148Z"
    }
   },
   "outputs": [],
   "source": [
    "\n",
    "data_size=-1 #train+test\n",
    "batch_size=100 # Size of each batch\n",
    "n_epochs=1000\n",
    "use_elevation=1\n",
    "patience=100\n",
    "if data_size== -1:\n",
    "    ds='full'\n",
    "else:\n",
    "    ds=data_size\n"
   ]
  },
  {
   "cell_type": "code",
   "execution_count": 10,
   "metadata": {
    "ExecuteTime": {
     "end_time": "2019-07-06T13:27:08.225393Z",
     "start_time": "2019-07-06T13:27:02.732414Z"
    }
   },
   "outputs": [],
   "source": [
    "import xarray as xr\n",
    "y=xr.open_dataset('/home/madhumadi/sd/nc_files/obs_1920_to_2005_no_leap.nc')['precipitation (mm)'].sel(time=slice('1950-01-01','2005-12-31')).fillna(0)\n"
   ]
  },
  {
   "cell_type": "code",
   "execution_count": 11,
   "metadata": {
    "scrolled": true
   },
   "outputs": [
    {
     "data": {
      "text/plain": [
       "(20440, 129, 135)"
      ]
     },
     "execution_count": 11,
     "metadata": {},
     "output_type": "execute_result"
    }
   ],
   "source": [
    "y.shape"
   ]
  },
  {
   "cell_type": "code",
   "execution_count": 12,
   "metadata": {},
   "outputs": [
    {
     "data": {
      "text/plain": [
       "<xarray.Dataset>\n",
       "Dimensions:         (lat: 117, lon: 118, time: 11315)\n",
       "Coordinates:\n",
       "  * lon             (lon) float64 68.0 68.25 68.5 68.75 ... 96.75 97.0 97.25\n",
       "  * time            (time) object 1950-01-01 00:00:00 ... 1980-12-31 00:00:00\n",
       "  * lat             (lat) float64 8.25 8.5 8.75 9.0 ... 36.5 36.75 37.0 37.25\n",
       "Data variables:\n",
       "    bcsd_1950_1980  (time, lat, lon) float64 ..."
      ]
     },
     "execution_count": 12,
     "metadata": {},
     "output_type": "execute_result"
    }
   ],
   "source": [
    "t=xr.open_dataset('/home/madhumadi/bcsd_bcsrcnn/CESM/no_ties_parameters_bcsd_1950_1980.nc')\n",
    "t"
   ]
  },
  {
   "cell_type": "code",
   "execution_count": 13,
   "metadata": {
    "ExecuteTime": {
     "end_time": "2019-07-06T13:27:18.709072Z",
     "start_time": "2019-07-06T13:27:08.275269Z"
    }
   },
   "outputs": [],
   "source": [
    "model_temp=t['bcsd_1950_1980'].fillna(0)"
   ]
  },
  {
   "cell_type": "code",
   "execution_count": 14,
   "metadata": {},
   "outputs": [],
   "source": [
    "model_t=model_temp.sel(time=~((model_temp.time.dt.month == 2) & (model_temp.time.dt.day == 29)))"
   ]
  },
  {
   "cell_type": "code",
   "execution_count": 15,
   "metadata": {},
   "outputs": [
    {
     "data": {
      "text/plain": [
       "(11315, 117, 118)"
      ]
     },
     "execution_count": 15,
     "metadata": {},
     "output_type": "execute_result"
    }
   ],
   "source": [
    "model_t.shape"
   ]
  },
  {
   "cell_type": "code",
   "execution_count": 16,
   "metadata": {},
   "outputs": [
    {
     "name": "stdout",
     "output_type": "stream",
     "text": [
      "1950-01-01 00:00:00\n"
     ]
    }
   ],
   "source": [
    "print(model_t.time.values[0])"
   ]
  },
  {
   "cell_type": "code",
   "execution_count": 17,
   "metadata": {},
   "outputs": [
    {
     "name": "stdout",
     "output_type": "stream",
     "text": [
      "1980-12-31 00:00:00\n"
     ]
    }
   ],
   "source": [
    "print(model_t.time.values[-1])"
   ]
  },
  {
   "cell_type": "code",
   "execution_count": 18,
   "metadata": {},
   "outputs": [],
   "source": [
    "model=model_t.sel(time=slice('1950-01-01','1980-12-31'))"
   ]
  },
  {
   "cell_type": "code",
   "execution_count": 19,
   "metadata": {},
   "outputs": [
    {
     "data": {
      "text/plain": [
       "<xarray.DataArray 'bcsd_1950_1980' (time: 11315, lat: 117, lon: 118)>\n",
       "array([[[0., 0., ..., 0., 0.],\n",
       "        [0., 0., ..., 0., 0.],\n",
       "        ...,\n",
       "        [0., 0., ..., 0., 0.],\n",
       "        [0., 0., ..., 0., 0.]],\n",
       "\n",
       "       [[0., 0., ..., 0., 0.],\n",
       "        [0., 0., ..., 0., 0.],\n",
       "        ...,\n",
       "        [0., 0., ..., 0., 0.],\n",
       "        [0., 0., ..., 0., 0.]],\n",
       "\n",
       "       ...,\n",
       "\n",
       "       [[0., 0., ..., 0., 0.],\n",
       "        [0., 0., ..., 0., 0.],\n",
       "        ...,\n",
       "        [0., 0., ..., 0., 0.],\n",
       "        [0., 0., ..., 0., 0.]],\n",
       "\n",
       "       [[0., 0., ..., 0., 0.],\n",
       "        [0., 0., ..., 0., 0.],\n",
       "        ...,\n",
       "        [0., 0., ..., 0., 0.],\n",
       "        [0., 0., ..., 0., 0.]]])\n",
       "Coordinates:\n",
       "  * lon      (lon) float64 68.0 68.25 68.5 68.75 69.0 ... 96.5 96.75 97.0 97.25\n",
       "  * time     (time) object 1950-01-01 00:00:00 ... 1980-12-31 00:00:00\n",
       "  * lat      (lat) float64 8.25 8.5 8.75 9.0 9.25 ... 36.5 36.75 37.0 37.25"
      ]
     },
     "execution_count": 19,
     "metadata": {},
     "output_type": "execute_result"
    }
   ],
   "source": [
    "model"
   ]
  },
  {
   "cell_type": "code",
   "execution_count": 20,
   "metadata": {
    "ExecuteTime": {
     "end_time": "2019-07-06T13:27:18.751429Z",
     "start_time": "2019-07-06T13:27:18.743052Z"
    }
   },
   "outputs": [],
   "source": [
    "mask=xr.where(xr.open_dataset('nc_files/obs_1920_to_2005_no_leap.nc')['precipitation (mm)'][0]>=0,1,np.nan)"
   ]
  },
  {
   "cell_type": "code",
   "execution_count": 21,
   "metadata": {
    "ExecuteTime": {
     "end_time": "2019-07-06T13:27:19.034119Z",
     "start_time": "2019-07-06T13:27:18.788572Z"
    }
   },
   "outputs": [
    {
     "data": {
      "text/plain": [
       "<matplotlib.collections.QuadMesh at 0x7f7138109898>"
      ]
     },
     "execution_count": 21,
     "metadata": {},
     "output_type": "execute_result"
    }
   ],
   "source": [
    "mask.plot()"
   ]
  },
  {
   "cell_type": "code",
   "execution_count": 22,
   "metadata": {
    "ExecuteTime": {
     "end_time": "2019-07-06T13:28:19.693004Z",
     "start_time": "2019-07-06T13:27:19.072483Z"
    }
   },
   "outputs": [],
   "source": [
    "temp=model.interp_like(mask)"
   ]
  },
  {
   "cell_type": "code",
   "execution_count": 23,
   "metadata": {
    "ExecuteTime": {
     "end_time": "2019-07-06T13:28:19.913395Z",
     "start_time": "2019-07-06T13:28:19.741034Z"
    }
   },
   "outputs": [
    {
     "data": {
      "text/plain": [
       "<matplotlib.collections.QuadMesh at 0x7f70f806a1d0>"
      ]
     },
     "execution_count": 23,
     "metadata": {},
     "output_type": "execute_result"
    },
    {
     "data": {
      "image/png": "[encoded data removed]",
      "text/plain": [
       "<Figure size 432x288 with 2 Axes>"
      ]
     },
     "metadata": {
      "needs_background": "light"
     },
     "output_type": "display_data"
    }
   ],
   "source": [
    "temp[1].fillna(0).plot()"
   ]
  },
  {
   "cell_type": "code",
   "execution_count": 24,
   "metadata": {
    "ExecuteTime": {
     "end_time": "2019-07-06T13:28:31.001371Z",
     "start_time": "2019-07-06T13:28:28.698011Z"
    }
   },
   "outputs": [],
   "source": [
    "\n",
    "x=temp.fillna(0)\n",
    "train_images=np.asarray(x)"
   ]
  },
  {
   "cell_type": "code",
   "execution_count": 25,
   "metadata": {
    "ExecuteTime": {
     "end_time": "2019-07-06T13:28:33.120652Z",
     "start_time": "2019-07-06T13:28:33.113788Z"
    }
   },
   "outputs": [
    {
     "data": {
      "text/plain": [
       "(129, 135)"
      ]
     },
     "execution_count": 25,
     "metadata": {},
     "output_type": "execute_result"
    }
   ],
   "source": [
    "train_images[0].shape"
   ]
  },
  {
   "cell_type": "code",
   "execution_count": 26,
   "metadata": {
    "ExecuteTime": {
     "start_time": "2019-07-06T13:30:33.469Z"
    }
   },
   "outputs": [
    {
     "name": "stdout",
     "output_type": "stream",
     "text": [
      "(11315, 2, 128, 134)\n",
      "(11315, 128, 134, 2)\n"
     ]
    }
   ],
   "source": [
    "\n",
    "if use_elevation==1:\n",
    "    import xarray as xr\n",
    "    from numpy import *\n",
    "    a='/home/madhumadi/sd/nc_files/india_masked_ele_interp.nc'\n",
    "    elevation=xr.open_dataset(a)\n",
    "    elevation_temp2=elevation.interp(lon=np.arange(66.5,100.0,0.25), lat=np.arange(6.5,38.5,0.25))\n",
    "\n",
    "    felev_temp=np.asarray(elevation_temp2['Band1']).reshape([128,134])\n",
    "\n",
    "    def fill_na(x, fillval=0):\n",
    "        where_are_NaNs = isnan(x)\n",
    "        x[where_are_NaNs] = fillval\n",
    "        return x\n",
    "    felev_te=fill_na(felev_temp)\n",
    "    felev=((felev_te-np.min(felev_te))/(np.max(felev_te)-np.min(felev_te)))\n",
    "\n",
    "    train_images.shape\n",
    "    p1=[]\n",
    "    for i in range(len(train_images)):\n",
    "        p2=np.asarray([train_images[i,0:128,0:134],felev*50])\n",
    "        p1.append(p2)\n",
    "    p3=np.asarray(p1)\n",
    "    print(p3.shape)\n",
    "    resu=p3.transpose(0,2,3,1)\n",
    "    print(resu.shape)\n"
   ]
  },
  {
   "cell_type": "code",
   "execution_count": 27,
   "metadata": {},
   "outputs": [
    {
     "data": {
      "text/plain": [
       "(11315, 128, 134, 2)"
      ]
     },
     "execution_count": 27,
     "metadata": {},
     "output_type": "execute_result"
    }
   ],
   "source": [
    "resu.shape"
   ]
  },
  {
   "cell_type": "code",
   "execution_count": 28,
   "metadata": {},
   "outputs": [
    {
     "data": {
      "text/plain": [
       "<matplotlib.image.AxesImage at 0x7f70f00216d8>"
      ]
     },
     "execution_count": 28,
     "metadata": {},
     "output_type": "execute_result"
    },
    {
     "data": {
      "image/png": "[encoded data removed]",
      "text/plain": [
       "<Figure size 432x288 with 1 Axes>"
      ]
     },
     "metadata": {
      "needs_background": "light"
     },
     "output_type": "display_data"
    }
   ],
   "source": [
    "import pylab as plt\n",
    "plt.imshow(resu[0,:,:,1])"
   ]
  },
  {
   "cell_type": "code",
   "execution_count": 29,
   "metadata": {},
   "outputs": [
    {
     "data": {
      "text/plain": [
       "<matplotlib.image.AxesImage at 0x7f70b819bd30>"
      ]
     },
     "execution_count": 29,
     "metadata": {},
     "output_type": "execute_result"
    },
    {
     "data": {
      "image/png": "[encoded data removed]",
      "text/plain": [
       "<Figure size 432x288 with 1 Axes>"
      ]
     },
     "metadata": {
      "needs_background": "light"
     },
     "output_type": "display_data"
    }
   ],
   "source": [
    "plt.imshow(resu[0,:,:,0])"
   ]
  },
  {
   "cell_type": "code",
   "execution_count": 30,
   "metadata": {},
   "outputs": [],
   "source": [
    "predictions=loaded_model.predict(resu)"
   ]
  },
  {
   "cell_type": "code",
   "execution_count": 31,
   "metadata": {},
   "outputs": [
    {
     "data": {
      "text/plain": [
       "(11315, 128, 134, 1)"
      ]
     },
     "execution_count": 31,
     "metadata": {},
     "output_type": "execute_result"
    }
   ],
   "source": [
    "predictions.shape"
   ]
  },
  {
   "cell_type": "code",
   "execution_count": 40,
   "metadata": {},
   "outputs": [],
   "source": [
    "name_of_variable='CESM_bcsrcnn_1950_1980'"
   ]
  },
  {
   "cell_type": "code",
   "execution_count": 41,
   "metadata": {},
   "outputs": [
    {
     "name": "stdout",
     "output_type": "stream",
     "text": [
      "saving\n"
     ]
    }
   ],
   "source": [
    "predict=predictions.reshape([-1,128,134])\n",
    "print('saving')\n",
    "xr_object = xr.Dataset({name_of_variable: (('time', 'lat', 'lon'), predict)},coords={\"lat\": np.arange(6.5,38.5,0.25), \"lon\":np.arange(66.5,100.0,0.25), \"time\": xr.cftime_range('1950-01-01','1980-12-31', calendar='noleap')})\n",
    "\n"
   ]
  },
  {
   "cell_type": "code",
   "execution_count": 42,
   "metadata": {},
   "outputs": [
    {
     "data": {
      "text/plain": [
       "<matplotlib.collections.QuadMesh at 0x7f71881c9be0>"
      ]
     },
     "execution_count": 42,
     "metadata": {},
     "output_type": "execute_result"
    },
    {
     "data": {
      "image/png": "[encoded data removed]",
      "text/plain": [
       "<Figure size 432x288 with 2 Axes>"
      ]
     },
     "metadata": {
      "needs_background": "light"
     },
     "output_type": "display_data"
    }
   ],
   "source": [
    "mask[0:128,0:134].plot()"
   ]
  },
  {
   "cell_type": "code",
   "execution_count": 43,
   "metadata": {
    "scrolled": true
   },
   "outputs": [
    {
     "data": {
      "text/plain": [
       "<xarray.DataArray 'CESM_bcsrcnn_1950_1980' ()>\n",
       "array(1663.4962, dtype=float32)"
      ]
     },
     "execution_count": 43,
     "metadata": {},
     "output_type": "execute_result"
    }
   ],
   "source": [
    "xr_object[name_of_variable].max()"
   ]
  },
  {
   "cell_type": "code",
   "execution_count": 44,
   "metadata": {},
   "outputs": [],
   "source": [
    "masked_xr=xr_object*mask[0:128,0:134]"
   ]
  },
  {
   "cell_type": "code",
   "execution_count": 45,
   "metadata": {},
   "outputs": [
    {
     "data": {
      "text/plain": [
       "<xarray.Dataset>\n",
       "Dimensions:                 (lat: 128, lon: 134, time: 11315)\n",
       "Coordinates:\n",
       "  * lat                     (lat) float64 6.5 6.75 7.0 7.25 ... 37.75 38.0 38.25\n",
       "  * lon                     (lon) float64 66.5 66.75 67.0 ... 99.25 99.5 99.75\n",
       "  * time                    (time) object 1950-01-01 00:00:00 ... 1980-12-31 00:00:00\n",
       "Data variables:\n",
       "    CESM_bcsrcnn_1950_1980  (time, lat, lon) float64 nan nan nan ... nan nan nan"
      ]
     },
     "execution_count": 45,
     "metadata": {},
     "output_type": "execute_result"
    }
   ],
   "source": [
    "masked_xr"
   ]
  },
  {
   "cell_type": "code",
   "execution_count": 46,
   "metadata": {},
   "outputs": [],
   "source": [
    "path='/home/madhumadi/bcsd_bcsrcnn/CESM/'"
   ]
  },
  {
   "cell_type": "code",
   "execution_count": 47,
   "metadata": {},
   "outputs": [
    {
     "data": {
      "text/plain": [
       "'/home/madhumadi/bcsd_bcsrcnn/CESM/CESM_bcsrcnn_1950_1980.nc'"
      ]
     },
     "execution_count": 47,
     "metadata": {},
     "output_type": "execute_result"
    }
   ],
   "source": [
    "path+name_of_variable+'.nc'"
   ]
  },
  {
   "cell_type": "code",
   "execution_count": 48,
   "metadata": {},
   "outputs": [],
   "source": [
    "masked_xr[name_of_variable].clip(0).to_netcdf(path+name_of_variable+'.nc')"
   ]
  },
  {
   "cell_type": "code",
   "execution_count": 49,
   "metadata": {},
   "outputs": [
    {
     "data": {
      "text/plain": [
       "'/home/madhumadi/sd'"
      ]
     },
     "execution_count": 49,
     "metadata": {},
     "output_type": "execute_result"
    }
   ],
   "source": [
    "pwd"
   ]
  },
  {
   "cell_type": "code",
   "execution_count": 50,
   "metadata": {},
   "outputs": [
    {
     "data": {
      "text/plain": [
       "<matplotlib.collections.QuadMesh at 0x7f705603b7f0>"
      ]
     },
     "execution_count": 50,
     "metadata": {},
     "output_type": "execute_result"
    },
    {
     "data": {
      "image/png": "[encoded data removed]",
      "text/plain": [
       "<Figure size 432x288 with 2 Axes>"
      ]
     },
     "metadata": {
      "needs_background": "light"
     },
     "output_type": "display_data"
    }
   ],
   "source": [
    "masked_xr[name_of_variable][0].clip(0).plot()"
   ]
  },
  {
   "cell_type": "code",
   "execution_count": null,
   "metadata": {},
   "outputs": [],
   "source": [
    "import os\n",
    "os.environ[\"CUDA_VISIBLE_DEVICES\"]=\"0\"\n",
    "\n",
    "from keras.backend.tensorflow_backend import set_session\n",
    "import tensorflow as tf\n",
    "config = tf.ConfigProto()\n",
    "config.gpu_options.allow_growth = True  # dynamically grow the memory used on the GPU\n",
    "config.log_device_placement = True  # to log device placement (on which device the operation ran)\n",
    "sess = tf.Session(config=config)\n",
    "set_session(sess)  # set this TensorFlow session as the default session for Keras\n",
    "\n"
   ]
  },
  {
   "cell_type": "code",
   "execution_count": null,
   "metadata": {},
   "outputs": [],
   "source": [
    "\n",
    "\n",
    "import numpy as np\n",
    "import xarray as xr\n",
    "import pylab as plt\n",
    "\n",
    "\n",
    "# In[3]:\n",
    "\n",
    "\n",
    "data_size=-1 #train+test\n",
    "batch_size=100 # Size of each batch\n",
    "n_epochs=1\n",
    "use_elevation=1\n",
    "patience=50\n",
    "if data_size== -1:\n",
    "    ds='full'\n",
    "else:\n",
    "    ds=data_size\n",
    "\n",
    "\n",
    "# In[4]:\n",
    "\n",
    "\n",
    "name='bcsd_ds_{data_size}_elevation_{use_elevation}_e_{n_epochs}'.format(data_size=ds,use_elevation=use_elevation,n_epochs=n_epochs)\n",
    "name\n",
    "\n",
    "\n",
    "# In[5]:\n",
    "\n",
    "#x=xr.open_dataset('cliped_gcm_1920_to_2005.nc')['__xarray_dataarray_variable__'].fillna(0)\n",
    "data=xr.open_dataset('/home/madhumadi/sd/nc_files/observation_bcsd_op_1920_2005.nc')\n",
    "y=data['precipitation (mm)'].fillna(0)\n",
    "\n",
    "\n",
    "# In[6]:\n",
    "x=data['bias_corrected_gcm'].fillna(0)\n",
    "train_images=np.asarray(x)\n",
    "train_labels=np.asarray(y)\n",
    "\n",
    "mask=xr.where(y[0]>=0,1,np.nan)\n",
    "# In[7]:\n",
    "\n",
    "\n",
    "np.random.seed(seed=0)\n",
    "\n",
    "\n",
    "# In[8]:\n",
    "\n",
    "\n",
    "import xarray as xr\n",
    "a='/home/madhumadi/sd/nc_files/india_masked_ele_interp.nc'\n",
    "elevation=xr.open_dataset(a)\n",
    "elevation['Band1'].plot()\n",
    "#felev_temp=np.asarray(elevation['Band1']).reshape([117,118])\n",
    "\n",
    "\n",
    "# In[46]:\n",
    "\n",
    "\n",
    "elevation_masked=(elevation['Band1'].fillna(0))*mask\n",
    "\n",
    "\n",
    "# In[47]:\n",
    "\n",
    "\n",
    "elevation_masked.plot()\n",
    "\n",
    "\n",
    "# In[48]:\n",
    "\n",
    "\n",
    "elevation1=elevation_masked.dropna(dim='lat',how='all')\n",
    "elevation=elevation1.dropna(dim='lon',how='all')\n",
    "felev_temp=np.asarray(elevation).reshape([117,118])\n",
    "\n",
    "\n",
    "# In[49]:\n",
    "\n",
    "\n",
    "\n",
    "from numpy import *\n",
    "def fill_na(x, fillval=0):\n",
    "    where_are_NaNs = isnan(x)\n",
    "    x[where_are_NaNs] = fillval\n",
    "    return x\n",
    "felev_te=fill_na(felev_temp)\n",
    "\n",
    "\n",
    "# In[50]:\n",
    "\n",
    "\n",
    "#felev.shape\n",
    "\n",
    "\n",
    "felev=((felev_te-np.min(felev_te))/(np.max(felev_te)-np.min(felev_te)))\n",
    "\n",
    "train_images.shape\n",
    "p1=[]\n",
    "for i in range(len(train_images)):\n",
    "    p2=np.asarray([train_images[i],felev*50])\n",
    "    p1.append(p2)\n",
    "p3=np.asarray(p1)\n",
    "resu=p3.transpose(0,2,3,1)\n",
    "\n",
    "\n",
    "\n",
    "# In[9]:\n",
    "\n",
    "\n",
    "import tensorflow as tf\n",
    "from keras.models import Sequential\n",
    "from keras.layers import Dense, Conv2D, Flatten, Activation\n",
    "from keras.layers.normalization import BatchNormalization\n",
    "import numpy as np\n",
    "import pickle\n",
    "from keras.models import model_from_json\n",
    "from sklearn.model_selection import train_test_split\n",
    "from keras.callbacks import EarlyStopping\n",
    "from keras.callbacks import ModelCheckpoint\n",
    "import h5py\n",
    "import matplotlib.pyplot as plt\n",
    "from keras import backend as K\n",
    "import keras\n",
    "from keras.callbacks import EarlyStopping, ModelCheckpoint, TensorBoard\n",
    "\n",
    "\n",
    "# In[10]:\n",
    "\n",
    "\n",
    "def root_mean_squared_error(y_true, y_pred):\n",
    "        return K.sqrt(K.mean(K.square(y_pred - y_true)))\n",
    "\n",
    "\n",
    "# In[11]:\n",
    "\n",
    "\n",
    "from keras.models import model_from_json\n",
    "# load json and create model\n",
    "json_file = open('/home/madhumadi/sd/srcnn_tjf_ds_full_elevation_1_e_1000/srcnn_pred_srcnn_tjf_ds_full_elevation_1_e_1000_16_06.json', 'r')\n",
    "loaded_model_json = json_file.read()\n",
    "json_file.close()\n",
    "loaded_model = model_from_json(loaded_model_json)\n",
    "loaded_model.load_weights(\"/home/madhumadi/sd/srcnn_tjf_ds_full_elevation_1_e_1000/srcnn_weights_srcnn_tjf_ds_full_elevation_1_e_1000_16_06.h5\")\n",
    "print(\"Loaded model from disk\")\n",
    "\n",
    "# evaluate loaded model on test data\n",
    "loaded_model.compile(loss='mean_squared_error',optimizer='adam')\n",
    "\n",
    "# In[12]:\n",
    "\n",
    "\n",
    "model.summary()\n",
    "\n",
    "\n",
    "# In[13]:\n",
    "\n",
    "\n",
    "terNAN=keras.callbacks.TerminateOnNaN()\n",
    "tensorboard = TensorBoard(log_dir='./{}/logs{}'.format(name,name), histogram_freq=0,write_graph=True, write_images=False)\n",
    "from keras.callbacks import EarlyStopping, ModelCheckpoint, TensorBoard, ReduceLROnPlateau,CSVLogger\n",
    "csv_logger = CSVLogger('./{}/training{}.log'.format(name,name))\n",
    "es = EarlyStopping(monitor='val_loss', mode='min', verbose=1, patience=patience)\n",
    "reduce_lr = ReduceLROnPlateau(monitor='loss', factor=0.9,patience=patience, min_lr=0.0001,verbose=1)\n",
    "mc = ModelCheckpoint('./{}/best_model.h5'.format(name,name), monitor='loss', mode='auto', verbose=0, save_best_only=False)\n",
    "if use_elevation==1:\n",
    "    history=model.fit(resu, train_labels.reshape([-1,117,118,1]),batch_size=batch_size, epochs= n_epochs, validation_split = 0.2, verbose=1,callbacks=[es,csv_logger,tensorboard,reduce_lr, mc,terNAN])\n",
    "else:\n",
    "    history=model.fit(a.reshape([-1,117,118,1]), b.reshape([-1,117,118,1]),batch_size=batch_size, epochs= n_epochs, validation_split = 0.2, verbose=1,callbacks=[es,csv_logger,tensorboard,reduce_lr, mc,terNAN])\n",
    "\n",
    "\n",
    "# In[14]:\n",
    "\n",
    "\n",
    "\n",
    "\n",
    "model_json = model.to_json()\n",
    "with open(\"./{}/srcnn_pred_{}_16_06.json\".format(name,name), \"w\") as json_file:\n",
    "    json_file.write(model_json)\n",
    "model.save_weights(\"./{}/srcnn_weights_{}_16_06.h5\".format(name,name))\n",
    "print(\"Saved model to disk\")\n",
    "\n",
    "def his():\n",
    "    loss_history=history.history['loss']\n",
    "    val_loss_history=history.history['val_loss']\n",
    "    return loss_history,val_loss_history\n",
    "\n",
    "\n",
    "with open('./{}/srcnn_16_06_history{}.pkl'.format(name,name), 'wb') as fp:\n",
    "    pickle.dump(his(), fp) \n",
    "\n",
    "\n",
    "# In[ ]:\n",
    "\n",
    "\n",
    "\n",
    "\n",
    "\n",
    "\n"
   ]
  }
 ],
 "metadata": {
  "kernelspec": {
   "display_name": "Python 3",
   "language": "python",
   "name": "python3"
  },
  "language_info": {
   "codemirror_mode": {
    "name": "ipython",
    "version": 3
   },
   "file_extension": ".py",
   "mimetype": "text/x-python",
   "name": "python",
   "nbconvert_exporter": "python",
   "pygments_lexer": "ipython3",
   "version": "3.6.8"
  },
  "varInspector": {
   "cols": {
    "lenName": 16,
    "lenType": 16,
    "lenVar": 40
   },
   "kernels_config": {
    "python": {
     "delete_cmd_postfix": "",
     "delete_cmd_prefix": "del ",
     "library": "var_list.py",
     "varRefreshCmd": "print(var_dic_list())"
    },
    "r": {
     "delete_cmd_postfix": ") ",
     "delete_cmd_prefix": "rm(",
     "library": "var_list.r",
     "varRefreshCmd": "cat(var_dic_list()) "
    }
   },
   "types_to_exclude": [
    "module",
    "function",
    "builtin_function_or_method",
    "instance",
    "_Feature"
   ],
   "window_display": false
  }
 },
 "nbformat": 4,
 "nbformat_minor": 2
}
